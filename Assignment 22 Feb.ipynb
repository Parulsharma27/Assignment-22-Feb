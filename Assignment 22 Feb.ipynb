{
 "cells": [
  {
   "cell_type": "code",
   "execution_count": 6,
   "id": "1dbaf1e0-ffe1-467b-b35d-654d31054295",
   "metadata": {},
   "outputs": [],
   "source": [
    "#Q1-\n",
    "import pandas as pd\n"
   ]
  },
  {
   "cell_type": "code",
   "execution_count": 7,
   "id": "9c43c597-3ad5-4e7e-b2b2-d80aeb5d1bf7",
   "metadata": {},
   "outputs": [],
   "source": [
    "data =[4, 8, 15,16,23,42]"
   ]
  },
  {
   "cell_type": "code",
   "execution_count": 9,
   "id": "b2a32eda-706d-4b99-95a0-5ed8036a2c37",
   "metadata": {},
   "outputs": [],
   "source": [
    "series= pd.Series(data)"
   ]
  },
  {
   "cell_type": "code",
   "execution_count": 11,
   "id": "f506b0c5-9699-4667-b0bd-c9fb666e0029",
   "metadata": {},
   "outputs": [
    {
     "data": {
      "text/plain": [
       "0     4\n",
       "1     8\n",
       "2    15\n",
       "3    16\n",
       "4    23\n",
       "5    42\n",
       "dtype: int64"
      ]
     },
     "execution_count": 11,
     "metadata": {},
     "output_type": "execute_result"
    }
   ],
   "source": [
    "series"
   ]
  },
  {
   "cell_type": "code",
   "execution_count": null,
   "id": "44d72886-97e1-4701-b6df-648929953695",
   "metadata": {},
   "outputs": [],
   "source": [
    "#Q2\n"
   ]
  },
  {
   "cell_type": "code",
   "execution_count": 12,
   "id": "59110c7d-39d5-44a1-b21f-7a3f2421923f",
   "metadata": {},
   "outputs": [],
   "source": [
    "data =[1,2,3,4,5,6,7,8,9,10]"
   ]
  },
  {
   "cell_type": "code",
   "execution_count": 13,
   "id": "cf55171b-e6e3-4b1f-8767-0752b0b4a041",
   "metadata": {},
   "outputs": [
    {
     "data": {
      "text/plain": [
       "list"
      ]
     },
     "execution_count": 13,
     "metadata": {},
     "output_type": "execute_result"
    }
   ],
   "source": [
    "type(data)"
   ]
  },
  {
   "cell_type": "code",
   "execution_count": 14,
   "id": "bdca6fa4-05b2-4783-85a2-67295475b60e",
   "metadata": {},
   "outputs": [],
   "source": [
    "series= pd.Series(data)"
   ]
  },
  {
   "cell_type": "code",
   "execution_count": 15,
   "id": "bd7ac98e-6013-41c9-9ffc-aef77142fd2b",
   "metadata": {},
   "outputs": [
    {
     "data": {
      "text/plain": [
       "0     1\n",
       "1     2\n",
       "2     3\n",
       "3     4\n",
       "4     5\n",
       "5     6\n",
       "6     7\n",
       "7     8\n",
       "8     9\n",
       "9    10\n",
       "dtype: int64"
      ]
     },
     "execution_count": 15,
     "metadata": {},
     "output_type": "execute_result"
    }
   ],
   "source": [
    "series"
   ]
  },
  {
   "cell_type": "code",
   "execution_count": 18,
   "id": "4913d55c-0669-4d37-9df6-3040c3502a7f",
   "metadata": {},
   "outputs": [
    {
     "data": {
      "text/html": [
       "<div>\n",
       "<style scoped>\n",
       "    .dataframe tbody tr th:only-of-type {\n",
       "        vertical-align: middle;\n",
       "    }\n",
       "\n",
       "    .dataframe tbody tr th {\n",
       "        vertical-align: top;\n",
       "    }\n",
       "\n",
       "    .dataframe thead th {\n",
       "        text-align: right;\n",
       "    }\n",
       "</style>\n",
       "<table border=\"1\" class=\"dataframe\">\n",
       "  <thead>\n",
       "    <tr style=\"text-align: right;\">\n",
       "      <th></th>\n",
       "      <th>Name</th>\n",
       "      <th>Age</th>\n",
       "      <th>Gender</th>\n",
       "    </tr>\n",
       "  </thead>\n",
       "  <tbody>\n",
       "    <tr>\n",
       "      <th>0</th>\n",
       "      <td>Alice</td>\n",
       "      <td>25</td>\n",
       "      <td>Female</td>\n",
       "    </tr>\n",
       "    <tr>\n",
       "      <th>1</th>\n",
       "      <td>Bob</td>\n",
       "      <td>30</td>\n",
       "      <td>Male</td>\n",
       "    </tr>\n",
       "    <tr>\n",
       "      <th>2</th>\n",
       "      <td>Claire</td>\n",
       "      <td>27</td>\n",
       "      <td>Female</td>\n",
       "    </tr>\n",
       "  </tbody>\n",
       "</table>\n",
       "</div>"
      ],
      "text/plain": [
       "     Name  Age  Gender\n",
       "0   Alice   25  Female\n",
       "1     Bob   30    Male\n",
       "2  Claire   27  Female"
      ]
     },
     "execution_count": 18,
     "metadata": {},
     "output_type": "execute_result"
    }
   ],
   "source": [
    "#Q3\n",
    "data={ 'Name' : ['Alice' , 'Bob', 'Claire'],\n",
    "    'Age' : [25,30,27],\n",
    "    'Gender' : ['Female', 'Male', 'Female']}\n",
    "dic = pd.DataFrame(data)\n",
    "dic"
   ]
  },
  {
   "cell_type": "code",
   "execution_count": 33,
   "id": "6cf56477-0595-4dc3-9eb2-76122576c203",
   "metadata": {},
   "outputs": [
    {
     "data": {
      "text/html": [
       "<div>\n",
       "<style scoped>\n",
       "    .dataframe tbody tr th:only-of-type {\n",
       "        vertical-align: middle;\n",
       "    }\n",
       "\n",
       "    .dataframe tbody tr th {\n",
       "        vertical-align: top;\n",
       "    }\n",
       "\n",
       "    .dataframe thead th {\n",
       "        text-align: right;\n",
       "    }\n",
       "</style>\n",
       "<table border=\"1\" class=\"dataframe\">\n",
       "  <thead>\n",
       "    <tr style=\"text-align: right;\">\n",
       "      <th></th>\n",
       "      <th>Name</th>\n",
       "      <th>Age</th>\n",
       "      <th>Gender</th>\n",
       "    </tr>\n",
       "  </thead>\n",
       "  <tbody>\n",
       "    <tr>\n",
       "      <th>0</th>\n",
       "      <td>Alice</td>\n",
       "      <td>25</td>\n",
       "      <td>Female</td>\n",
       "    </tr>\n",
       "    <tr>\n",
       "      <th>1</th>\n",
       "      <td>Bob</td>\n",
       "      <td>30</td>\n",
       "      <td>Male</td>\n",
       "    </tr>\n",
       "    <tr>\n",
       "      <th>2</th>\n",
       "      <td>Claire</td>\n",
       "      <td>27</td>\n",
       "      <td>Female</td>\n",
       "    </tr>\n",
       "  </tbody>\n",
       "</table>\n",
       "</div>"
      ],
      "text/plain": [
       "     Name  Age  Gender\n",
       "0   Alice   25  Female\n",
       "1     Bob   30    Male\n",
       "2  Claire   27  Female"
      ]
     },
     "execution_count": 33,
     "metadata": {},
     "output_type": "execute_result"
    }
   ],
   "source": [
    "#A DataFrame in pandas is a two-dimensional table with rows and columns, where each column can have a different data type. It can be seen as a collection of Pandas series objects that share the same index. In contrast, a pandas series is a one-dimensional array-like object that can hold any data type, and it has a labeled index.\n",
    "#example of data type\n",
    "data={ 'Name' : ['Alice' , 'Bob', 'Claire'],\n",
    "    'Age' : [25,30,27],\n",
    "    'Gender' : ['Female', 'Male', 'Female']}\n",
    "dic = pd.DataFrame(data)\n",
    "dic\n"
   ]
  },
  {
   "cell_type": "code",
   "execution_count": 36,
   "id": "30f6df38-aa5b-4061-b407-7891eb0751c6",
   "metadata": {},
   "outputs": [
    {
     "data": {
      "text/plain": [
       "0    25\n",
       "1    30\n",
       "2    27\n",
       "Name: Age, dtype: int64"
      ]
     },
     "execution_count": 36,
     "metadata": {},
     "output_type": "execute_result"
    }
   ],
   "source": [
    "#examplee of series\n",
    "dic['Age']"
   ]
  },
  {
   "cell_type": "code",
   "execution_count": 37,
   "id": "5a9a1cf0-4ac1-40a4-a655-fa5d26514997",
   "metadata": {},
   "outputs": [
    {
     "data": {
      "text/plain": [
       "pandas.core.series.Series"
      ]
     },
     "execution_count": 37,
     "metadata": {},
     "output_type": "execute_result"
    }
   ],
   "source": [
    "type(dic['Age'])"
   ]
  },
  {
   "cell_type": "code",
   "execution_count": 45,
   "id": "bd1d7328-4f2b-4351-b26a-ede16b6c684e",
   "metadata": {},
   "outputs": [],
   "source": [
    "#q5\n",
    "#head() and tail(): to show the first or last rows of the DataFrame\n",
    "#describe(): to show summary statistics of the DataFrame\n",
    "#sort_values(): to sort the DataFrame by one or more columns\n",
    "#groupby(): to group the DataFrame by one or more columns and perform aggregate operations\n",
    "#dropna(): to remove rows with missing values\n",
    "#fillna(): to fill missing values with a specified value or method'\n",
    "\n",
    "data={ 'Name' : ['Alice' , 'Bob', 'Claire'],\n",
    "    'Age' : [25,30,27],\n",
    "    'Gender' : ['Female', 'Male', 'Female']}\n",
    "\n",
    "\n"
   ]
  },
  {
   "cell_type": "code",
   "execution_count": 49,
   "id": "0f216d2e-d69c-4887-abcf-64a0eccfe326",
   "metadata": {},
   "outputs": [
    {
     "data": {
      "text/html": [
       "<div>\n",
       "<style scoped>\n",
       "    .dataframe tbody tr th:only-of-type {\n",
       "        vertical-align: middle;\n",
       "    }\n",
       "\n",
       "    .dataframe tbody tr th {\n",
       "        vertical-align: top;\n",
       "    }\n",
       "\n",
       "    .dataframe thead th {\n",
       "        text-align: right;\n",
       "    }\n",
       "</style>\n",
       "<table border=\"1\" class=\"dataframe\">\n",
       "  <thead>\n",
       "    <tr style=\"text-align: right;\">\n",
       "      <th></th>\n",
       "      <th>Age</th>\n",
       "    </tr>\n",
       "  </thead>\n",
       "  <tbody>\n",
       "    <tr>\n",
       "      <th>count</th>\n",
       "      <td>3.000000</td>\n",
       "    </tr>\n",
       "    <tr>\n",
       "      <th>mean</th>\n",
       "      <td>27.333333</td>\n",
       "    </tr>\n",
       "    <tr>\n",
       "      <th>std</th>\n",
       "      <td>2.516611</td>\n",
       "    </tr>\n",
       "    <tr>\n",
       "      <th>min</th>\n",
       "      <td>25.000000</td>\n",
       "    </tr>\n",
       "    <tr>\n",
       "      <th>25%</th>\n",
       "      <td>26.000000</td>\n",
       "    </tr>\n",
       "    <tr>\n",
       "      <th>50%</th>\n",
       "      <td>27.000000</td>\n",
       "    </tr>\n",
       "    <tr>\n",
       "      <th>75%</th>\n",
       "      <td>28.500000</td>\n",
       "    </tr>\n",
       "    <tr>\n",
       "      <th>max</th>\n",
       "      <td>30.000000</td>\n",
       "    </tr>\n",
       "  </tbody>\n",
       "</table>\n",
       "</div>"
      ],
      "text/plain": [
       "             Age\n",
       "count   3.000000\n",
       "mean   27.333333\n",
       "std     2.516611\n",
       "min    25.000000\n",
       "25%    26.000000\n",
       "50%    27.000000\n",
       "75%    28.500000\n",
       "max    30.000000"
      ]
     },
     "execution_count": 49,
     "metadata": {},
     "output_type": "execute_result"
    }
   ],
   "source": [
    "dic = pd.DataFrame(data)\n",
    "dic.describe()"
   ]
  },
  {
   "cell_type": "code",
   "execution_count": null,
   "id": "57cb7c55-5a44-46c6-a632-091ff7a8965f",
   "metadata": {},
   "outputs": [],
   "source": [
    "#Q6\n",
    "#Both Series and DataFrame are mutable in nature, while Panel is considered to be deprecated and is no longer recommended for use in pandas. Instead, multi-dimensional data should be stored and manipulated in a multi-index DataFrame."
   ]
  },
  {
   "cell_type": "code",
   "execution_count": 50,
   "id": "4be81c9d-f232-4a81-a4b2-4b966f3c4e91",
   "metadata": {},
   "outputs": [
    {
     "data": {
      "text/html": [
       "<div>\n",
       "<style scoped>\n",
       "    .dataframe tbody tr th:only-of-type {\n",
       "        vertical-align: middle;\n",
       "    }\n",
       "\n",
       "    .dataframe tbody tr th {\n",
       "        vertical-align: top;\n",
       "    }\n",
       "\n",
       "    .dataframe thead th {\n",
       "        text-align: right;\n",
       "    }\n",
       "</style>\n",
       "<table border=\"1\" class=\"dataframe\">\n",
       "  <thead>\n",
       "    <tr style=\"text-align: right;\">\n",
       "      <th></th>\n",
       "      <th>A</th>\n",
       "      <th>B</th>\n",
       "    </tr>\n",
       "  </thead>\n",
       "  <tbody>\n",
       "    <tr>\n",
       "      <th>0</th>\n",
       "      <td>10</td>\n",
       "      <td>1</td>\n",
       "    </tr>\n",
       "    <tr>\n",
       "      <th>1</th>\n",
       "      <td>20</td>\n",
       "      <td>2</td>\n",
       "    </tr>\n",
       "    <tr>\n",
       "      <th>2</th>\n",
       "      <td>30</td>\n",
       "      <td>3</td>\n",
       "    </tr>\n",
       "    <tr>\n",
       "      <th>3</th>\n",
       "      <td>40</td>\n",
       "      <td>4</td>\n",
       "    </tr>\n",
       "    <tr>\n",
       "      <th>4</th>\n",
       "      <td>50</td>\n",
       "      <td>5</td>\n",
       "    </tr>\n",
       "  </tbody>\n",
       "</table>\n",
       "</div>"
      ],
      "text/plain": [
       "    A  B\n",
       "0  10  1\n",
       "1  20  2\n",
       "2  30  3\n",
       "3  40  4\n",
       "4  50  5"
      ]
     },
     "execution_count": 50,
     "metadata": {},
     "output_type": "execute_result"
    }
   ],
   "source": [
    "#Q7\n",
    "s1 = pd.Series([10, 20, 30, 40, 50], name='A')\n",
    "s2 = pd.Series([1, 2, 3, 4, 5], name='B')\n",
    "df = pd.DataFrame({'A': s1, 'B': s2})\n",
    "df\n"
   ]
  },
  {
   "cell_type": "code",
   "execution_count": null,
   "id": "3e5d9cb1-5b4c-40f2-8383-6e39e77d2bb1",
   "metadata": {},
   "outputs": [],
   "source": []
  }
 ],
 "metadata": {
  "kernelspec": {
   "display_name": "Python 3 (ipykernel)",
   "language": "python",
   "name": "python3"
  },
  "language_info": {
   "codemirror_mode": {
    "name": "ipython",
    "version": 3
   },
   "file_extension": ".py",
   "mimetype": "text/x-python",
   "name": "python",
   "nbconvert_exporter": "python",
   "pygments_lexer": "ipython3",
   "version": "3.10.8"
  }
 },
 "nbformat": 4,
 "nbformat_minor": 5
}
